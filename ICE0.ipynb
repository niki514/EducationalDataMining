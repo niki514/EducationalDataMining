{
 "cells": [
  {
   "cell_type": "markdown",
   "metadata": {},
   "source": [
    "# Nikita Tejwani\n",
    "### HUDK 4050: Core Methods in Educational Data Mining\n",
    "### Fall 2021\n",
    "\n",
    "##### *Assignment 1: Individual Coding Assignment (ICE) 0*"
   ]
  },
  {
   "cell_type": "code",
   "execution_count": null,
   "metadata": {},
   "outputs": [],
   "source": [
    "#Running this code brings up a poem entitled \"The Zen of Python\" by Tim Peters\n",
    "\n",
    "import this"
   ]
  },
  {
   "cell_type": "code",
   "execution_count": null,
   "metadata": {},
   "outputs": [],
   "source": [
    "#Here is a \"Hello World\" statement\n",
    "\n",
    "print(\"Hello World!\")"
   ]
  },
  {
   "cell_type": "markdown",
   "metadata": {},
   "source": [
    "##### *VARIABLES*"
   ]
  },
  {
   "cell_type": "code",
   "execution_count": 8,
   "metadata": {},
   "outputs": [
    {
     "name": "stdout",
     "output_type": "stream",
     "text": [
      "w + x =  7\n",
      "y + z = Hello World\n",
      "x = World\n"
     ]
    }
   ],
   "source": [
    "w = 3\n",
    "x = 4\n",
    "y = \"Hello \"\n",
    "z = \"World\"\n",
    "\n",
    "#Here's what happens when you use the addition operand on numbers\n",
    "print(\"w + x = \", w + x)\n",
    "\n",
    "#Here's what happens when you use the addition operand on strings\n",
    "print(\"y + z = \" + y + z)\n",
    "\n",
    "#When you want to assign a new value to a variable, put the variable on the left of the equal symbol and the value on the right\n",
    "x = z\n",
    "print(\"x = \" + x)"
   ]
  },
  {
   "cell_type": "markdown",
   "metadata": {},
   "source": [
    "##### *OPERATORS*"
   ]
  },
  {
   "cell_type": "code",
   "execution_count": 19,
   "metadata": {},
   "outputs": [
    {
     "name": "stdout",
     "output_type": "stream",
     "text": [
      "MATH\n",
      "x + y =  12\n",
      "x - y =  6\n",
      "x * y =  27\n",
      "x / y =  3.0\n",
      "z % y =  1\n",
      "z // y =  3 \n",
      "\n",
      "LOGIC\n",
      "x = y False\n",
      "x != y True\n",
      "x > y True\n"
     ]
    }
   ],
   "source": [
    "x = 9\n",
    "y = 3\n",
    "z = 10\n",
    "\n",
    "print(\"MATH\")\n",
    "#Addition\n",
    "print(\"x + y = \", x + y)\n",
    "\n",
    "#Subtraction\n",
    "print(\"x - y = \", x - y)\n",
    "\n",
    "#Multiplication\n",
    "print(\"x * y = \", x * y)\n",
    "\n",
    "#Division\n",
    "print(\"x / y = \", x / y)\n",
    "\n",
    "#Modulo\n",
    "print(\"z % y = \", z % y)\n",
    "\n",
    "#Floor division\n",
    "print(\"z // y = \", z // y, \"\\n\")\n",
    "\n",
    "print(\"LOGIC\")\n",
    "#Equality\n",
    "print(\"x = y\", x == y)\n",
    "\n",
    "#Inequality\n",
    "print(\"x != y\", x != y)\n",
    "\n",
    "#Comparison\n",
    "print(\"x > y\", x > y)\n",
    "\n"
   ]
  },
  {
   "cell_type": "markdown",
   "metadata": {},
   "source": [
    "###### *WORKING DIRECTORY*"
   ]
  },
  {
   "cell_type": "code",
   "execution_count": 20,
   "metadata": {},
   "outputs": [
    {
     "data": {
      "text/plain": [
       "'C:\\\\Users\\\\Niki\\\\anaconda3\\\\Git\\\\HUDK4050_EDM'"
      ]
     },
     "execution_count": 20,
     "metadata": {},
     "output_type": "execute_result"
    }
   ],
   "source": [
    "#Here's how you find the current working directory\n",
    "import os\n",
    "os.getcwd()"
   ]
  }
 ],
 "metadata": {
  "kernelspec": {
   "display_name": "Python 3",
   "language": "python",
   "name": "python3"
  },
  "language_info": {
   "codemirror_mode": {
    "name": "ipython",
    "version": 3
   },
   "file_extension": ".py",
   "mimetype": "text/x-python",
   "name": "python",
   "nbconvert_exporter": "python",
   "pygments_lexer": "ipython3",
   "version": "3.8.5"
  }
 },
 "nbformat": 4,
 "nbformat_minor": 4
}
