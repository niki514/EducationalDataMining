{
 "cells": [
  {
   "cell_type": "code",
   "execution_count": 4,
   "metadata": {},
   "outputs": [],
   "source": [
    "import os\n",
    "import pandas as pd\n",
    "import numpy as np\n"
   ]
  },
  {
   "cell_type": "code",
   "execution_count": 5,
   "metadata": {},
   "outputs": [],
   "source": [
    "def ProfAreas(filename):\n",
    "    columns = ['Reading Foundational Skills','Key Ideas and Details','Craft and Structure',\n",
    "'Integration of Knowledge and Ideas','Numbers and Operations - Fractions','Numbers and Operations - Base Ten',\n",
    "'Operations and Algebraic Thinking','Geometry','Expressions and Equations','Ratios and Proportional Relationships',\n",
    "'The Number System','Statistics and Probability','Functions','Algebra','Number and Quantity']\n",
    "    ser = pd.Series(filename)\n",
    "    #should return an array which contains one element for each proficiency area\n",
    "    #0 = not proficient\n",
    "    #1 = partially proficient\n",
    "    #2 = proficient"
   ]
  },
  {
   "cell_type": "code",
   "execution_count": 8,
   "metadata": {},
   "outputs": [],
   "source": [
    "df = pd.DataFrame(columns = ['Student Name','Reading Foundational Skills','Key Ideas and Details','Craft and Structure',\n",
    "'Integration of Knowledge and Ideas','Numbers and Operations - Fractions','Numbers and Operations - Base Ten',\n",
    "'Operations and Algebraic Thinking','Geometry','Expressions and Equations','Ratios and Proportional Relationships',\n",
    "'The Number System','Statistics and Probability','Functions','Algebra','Number and Quantity'])\n",
    "for filename in os.listdir('NamesRedacted'):\n",
    "    df.append(ProfAreas(filename), ignore_index = True)\n",
    "    "
   ]
  }
 ],
 "metadata": {
  "kernelspec": {
   "display_name": "Python 3",
   "language": "python",
   "name": "python3"
  },
  "language_info": {
   "codemirror_mode": {
    "name": "ipython",
    "version": 3
   },
   "file_extension": ".py",
   "mimetype": "text/x-python",
   "name": "python",
   "nbconvert_exporter": "python",
   "pygments_lexer": "ipython3",
   "version": "3.8.5"
  }
 },
 "nbformat": 4,
 "nbformat_minor": 4
}
