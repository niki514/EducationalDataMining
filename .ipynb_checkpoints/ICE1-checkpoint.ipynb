{
 "cells": [
  {
   "cell_type": "markdown",
   "metadata": {},
   "source": [
    "# Nikita Tejwani\n",
    "### HUDK 4050: Core Methods in Educational Data Mining\n",
    "### Fall 2021\n",
    "\n",
    "##### *Assignment 1: Individual Coding Assignment (ICE) 1*"
   ]
  },
  {
   "cell_type": "code",
   "execution_count": 15,
   "metadata": {},
   "outputs": [
    {
     "name": "stdout",
     "output_type": "stream",
     "text": [
      "💻👍\n"
     ]
    }
   ],
   "source": [
    "#Import the function - emojize from the package - emoji\n",
    "\n",
    "from emoji import emojize\n",
    "\n",
    "print(emojize(\":laptop::thumbs_up:\"))\n",
    "\n",
    "#Import packages that are useful for data analysis\n",
    "import array\n",
    "import numpy as np\n",
    "import pandas as pd\n",
    "import matplotlib.pyplot as plt"
   ]
  },
  {
   "cell_type": "markdown",
   "metadata": {},
   "source": [
    "##### BASIC DATA TYPES"
   ]
  },
  {
   "cell_type": "code",
   "execution_count": 16,
   "metadata": {},
   "outputs": [
    {
     "name": "stdout",
     "output_type": "stream",
     "text": [
      "\"This\" is a string\n",
      "2 is an int\n",
      "15.5 is a float\n",
      "True is a boolean\n",
      "[\"This\", 2, 15.5, True] is a list\n"
     ]
    }
   ],
   "source": [
    "print(\"\\\"This\\\" is a string\")\n",
    "print(\"2 is an int\")\n",
    "print(\"15.5 is a float\")\n",
    "print(\"True is a boolean\")\n",
    "print(\"[\\\"This\\\", 2, 15.5, True] is a list\")"
   ]
  },
  {
   "cell_type": "markdown",
   "metadata": {},
   "source": [
    "##### CREATING ARRAYS"
   ]
  },
  {
   "cell_type": "code",
   "execution_count": 29,
   "metadata": {},
   "outputs": [
    {
     "name": "stdout",
     "output_type": "stream",
     "text": [
      "[0, 1, 2, 3, 4, 5, 6, 7, 8, 9]  is a list\n",
      "[0 1 2 3 4 5 6 7 8 9]  is an array\n",
      "[0 0 0 0 0 0 0 0 0 0] is an array of zeros.  This can be used to initialize a series in which values are not yet known\n"
     ]
    }
   ],
   "source": [
    "#Creating a list\n",
    "\n",
    "list_1 = list(range(10))\n",
    "print(list_1, \" is a list\")\n",
    "\n",
    "#Creating a numpy array\n",
    "\n",
    "array_1 = np.array(list_1, dtype = int)\n",
    "print(array_1, \" is an array\")\n",
    "\n",
    "#Creating an array of zero values\n",
    "array_2 = np.zeros(10, dtype = int)\n",
    "print(array_2, \"is an array of zeros.  This can be used to initialize a series in which values are not yet known\")"
   ]
  },
  {
   "cell_type": "markdown",
   "metadata": {},
   "source": [
    "##### PANDAS OBJECTS"
   ]
  },
  {
   "cell_type": "code",
   "execution_count": 51,
   "metadata": {},
   "outputs": [
    {
     "name": "stdout",
     "output_type": "stream",
     "text": [
      "Series:\t\t One dimensional array of indexed data\n",
      "DataFrame:\t Two dimensional array with flexible indeces and column names\n",
      "\n",
      "Series:\n",
      "\n",
      "0    3\n",
      "1    1\n",
      "2    4\n",
      "3    6\n",
      "dtype: int32\n",
      "-----------------\n",
      "\n",
      "Data Frame:\n",
      "\n",
      "   0  1  2  3  4\n",
      "0  2  8  8  3  1\n",
      "1  2  8  9  3  8\n",
      "2  2  4  6  2  1\n",
      "3  0  9  2  8  0\n"
     ]
    }
   ],
   "source": [
    "#Definitions: Series and DataFrame\n",
    "print(\"Series:\\t\\t One dimensional array of indexed data\\nDataFrame:\\t Two dimensional array with flexible indeces and column names\\n\")\n",
    "print(\"-----------------\")\n",
    "\n",
    "#Series Example\n",
    "\n",
    "S = pd.Series(np.random.randint(0, 10, 4))\n",
    "print(\"Series:\\n\")\n",
    "print(S)\n",
    "print(\"-----------------\")\n",
    "\n",
    "#DataFrame Example\n",
    "\n",
    "df = pd.DataFrame(np.random.randint(0, 10, (4, 5)))\n",
    "print(\"\\nData Frame:\\n\")\n",
    "print(df)"
   ]
  },
  {
   "cell_type": "markdown",
   "metadata": {},
   "source": [
    "##### IMPORTING DATA"
   ]
  },
  {
   "cell_type": "code",
   "execution_count": 61,
   "metadata": {},
   "outputs": [
    {
     "data": {
      "text/html": [
       "<div>\n",
       "<style scoped>\n",
       "    .dataframe tbody tr th:only-of-type {\n",
       "        vertical-align: middle;\n",
       "    }\n",
       "\n",
       "    .dataframe tbody tr th {\n",
       "        vertical-align: top;\n",
       "    }\n",
       "\n",
       "    .dataframe thead th {\n",
       "        text-align: right;\n",
       "    }\n",
       "</style>\n",
       "<table border=\"1\" class=\"dataframe\">\n",
       "  <thead>\n",
       "    <tr style=\"text-align: right;\">\n",
       "      <th></th>\n",
       "      <th>DBN</th>\n",
       "      <th>Quality_Review_Score</th>\n",
       "      <th>Progress_Rpt_10-11</th>\n",
       "      <th>Student_Progress_10-11</th>\n",
       "      <th>graduation 2010-11</th>\n",
       "      <th>college enroll 2010-11</th>\n",
       "    </tr>\n",
       "  </thead>\n",
       "  <tbody>\n",
       "    <tr>\n",
       "      <th>0</th>\n",
       "      <td>01M292</td>\n",
       "      <td>Developing</td>\n",
       "      <td>C</td>\n",
       "      <td>C</td>\n",
       "      <td>0.563</td>\n",
       "      <td>0.519</td>\n",
       "    </tr>\n",
       "    <tr>\n",
       "      <th>1</th>\n",
       "      <td>01M448</td>\n",
       "      <td>Developing</td>\n",
       "      <td>C</td>\n",
       "      <td>B</td>\n",
       "      <td>0.707</td>\n",
       "      <td>0.363</td>\n",
       "    </tr>\n",
       "    <tr>\n",
       "      <th>2</th>\n",
       "      <td>01M450</td>\n",
       "      <td>Well Developed</td>\n",
       "      <td>A</td>\n",
       "      <td>B</td>\n",
       "      <td>0.716</td>\n",
       "      <td>0.692</td>\n",
       "    </tr>\n",
       "    <tr>\n",
       "      <th>3</th>\n",
       "      <td>01M509</td>\n",
       "      <td>Proficient</td>\n",
       "      <td>C</td>\n",
       "      <td>C</td>\n",
       "      <td>0.564</td>\n",
       "      <td>0.477</td>\n",
       "    </tr>\n",
       "    <tr>\n",
       "      <th>4</th>\n",
       "      <td>01M539</td>\n",
       "      <td>Proficient</td>\n",
       "      <td>A</td>\n",
       "      <td>A</td>\n",
       "      <td>0.953</td>\n",
       "      <td>0.870</td>\n",
       "    </tr>\n",
       "    <tr>\n",
       "      <th>...</th>\n",
       "      <td>...</td>\n",
       "      <td>...</td>\n",
       "      <td>...</td>\n",
       "      <td>...</td>\n",
       "      <td>...</td>\n",
       "      <td>...</td>\n",
       "    </tr>\n",
       "    <tr>\n",
       "      <th>417</th>\n",
       "      <td>10X696</td>\n",
       "      <td>Well Developed</td>\n",
       "      <td>A</td>\n",
       "      <td>A</td>\n",
       "      <td>1.000</td>\n",
       "      <td>0.936</td>\n",
       "    </tr>\n",
       "    <tr>\n",
       "      <th>418</th>\n",
       "      <td>13K430</td>\n",
       "      <td>Proficient</td>\n",
       "      <td>B</td>\n",
       "      <td>B</td>\n",
       "      <td>0.977</td>\n",
       "      <td>0.867</td>\n",
       "    </tr>\n",
       "    <tr>\n",
       "      <th>419</th>\n",
       "      <td>10X445</td>\n",
       "      <td>Well Developed</td>\n",
       "      <td>A</td>\n",
       "      <td>A</td>\n",
       "      <td>1.000</td>\n",
       "      <td>0.994</td>\n",
       "    </tr>\n",
       "    <tr>\n",
       "      <th>420</th>\n",
       "      <td>14K449</td>\n",
       "      <td>Well Developed</td>\n",
       "      <td>B</td>\n",
       "      <td>B</td>\n",
       "      <td>0.914</td>\n",
       "      <td>0.961</td>\n",
       "    </tr>\n",
       "    <tr>\n",
       "      <th>421</th>\n",
       "      <td>28Q687</td>\n",
       "      <td>Proficient</td>\n",
       "      <td>A</td>\n",
       "      <td>B</td>\n",
       "      <td>1.000</td>\n",
       "      <td>0.972</td>\n",
       "    </tr>\n",
       "  </tbody>\n",
       "</table>\n",
       "<p>290 rows × 6 columns</p>\n",
       "</div>"
      ],
      "text/plain": [
       "        DBN Quality_Review_Score Progress_Rpt_10-11 Student_Progress_10-11  \\\n",
       "0    01M292           Developing                  C                      C   \n",
       "1    01M448           Developing                  C                      B   \n",
       "2    01M450       Well Developed                  A                      B   \n",
       "3    01M509           Proficient                  C                      C   \n",
       "4    01M539           Proficient                  A                      A   \n",
       "..      ...                  ...                ...                    ...   \n",
       "417  10X696       Well Developed                  A                      A   \n",
       "418  13K430           Proficient                  B                      B   \n",
       "419  10X445       Well Developed                  A                      A   \n",
       "420  14K449       Well Developed                  B                      B   \n",
       "421  28Q687           Proficient                  A                      B   \n",
       "\n",
       "     graduation 2010-11  college enroll 2010-11  \n",
       "0                 0.563                   0.519  \n",
       "1                 0.707                   0.363  \n",
       "2                 0.716                   0.692  \n",
       "3                 0.564                   0.477  \n",
       "4                 0.953                   0.870  \n",
       "..                  ...                     ...  \n",
       "417               1.000                   0.936  \n",
       "418               0.977                   0.867  \n",
       "419               1.000                   0.994  \n",
       "420               0.914                   0.961  \n",
       "421               1.000                   0.972  \n",
       "\n",
       "[290 rows x 6 columns]"
      ]
     },
     "execution_count": 61,
     "metadata": {},
     "output_type": "execute_result"
    }
   ],
   "source": [
    "#Importing what I assume is school progress report data\n",
    "import os\n",
    "os.getcwd()\n",
    "df = pd.read_csv(\"ICE1_Data.csv\")"
   ]
  },
  {
   "cell_type": "markdown",
   "metadata": {},
   "source": [
    "##### ANALYZING DATA"
   ]
  },
  {
   "cell_type": "code",
   "execution_count": 68,
   "metadata": {},
   "outputs": [
    {
     "name": "stdout",
     "output_type": "stream",
     "text": [
      "BASIC STATISTICAL MEASURES\n",
      "           DBN Quality_Review_Score Progress_Rpt_10-11 Student_Progress_10-11  \\\n",
      "count      422                  368                310                    310   \n",
      "unique     422                    6                  5                      5   \n",
      "top     27Q324           Proficient                  A                      C   \n",
      "freq         1                  186                109                     93   \n",
      "mean       NaN                  NaN                NaN                    NaN   \n",
      "std        NaN                  NaN                NaN                    NaN   \n",
      "min        NaN                  NaN                NaN                    NaN   \n",
      "25%        NaN                  NaN                NaN                    NaN   \n",
      "50%        NaN                  NaN                NaN                    NaN   \n",
      "75%        NaN                  NaN                NaN                    NaN   \n",
      "max        NaN                  NaN                NaN                    NaN   \n",
      "\n",
      "        graduation 2010-11  college enroll 2010-11  \n",
      "count           310.000000              291.000000  \n",
      "unique                 NaN                     NaN  \n",
      "top                    NaN                     NaN  \n",
      "freq                   NaN                     NaN  \n",
      "mean              0.737977                0.531196  \n",
      "std               0.143356                0.193129  \n",
      "min               0.412000                0.141000  \n",
      "25%               0.625250                0.391000  \n",
      "50%               0.726000                0.489000  \n",
      "75%               0.850750                0.656000  \n",
      "max               1.000000                1.000000  \n",
      "\n",
      "COUNTS OF QUALITY_REVIEW_SCORE\n",
      "Proficient                                                                                186\n",
      "Well Developed                                                                            108\n",
      "Developing                                                                                 64\n",
      "Underdeveloped                                                                              6\n",
      "Outstanding (only an option in 2007-8)                                                      3\n",
      "Underdeveloped with Proficient Features (only an option in 2007-8, 2008-9 and 2009-10)      1\n",
      "Name: Quality_Review_Score, dtype: int64\n"
     ]
    }
   ],
   "source": [
    "#Summary statistics\n",
    "print(\"BASIC STATISTICAL MEASURES\")\n",
    "print(df.describe(include = 'all'))\n",
    "\n",
    "print(\"\\nCOUNTS OF QUALITY_REVIEW_SCORE\")\n",
    "print(df['Quality_Review_Score'].value_counts())"
   ]
  },
  {
   "cell_type": "markdown",
   "metadata": {},
   "source": [
    "##### VISUALIZING DATA"
   ]
  },
  {
   "cell_type": "code",
   "execution_count": 164,
   "metadata": {},
   "outputs": [
    {
     "data": {
      "text/plain": [
       "<AxesSubplot:xlabel='Quality_Review_Score'>"
      ]
     },
     "execution_count": 164,
     "metadata": {},
     "output_type": "execute_result"
    },
    {
     "data": {
      "image/png": "[encoded data removed]",
      "text/plain": [
       "<Figure size 432x288 with 1 Axes>"
      ]
     },
     "metadata": {
      "needs_background": "light"
     },
     "output_type": "display_data"
    }
   ],
   "source": [
    "#Making a bar graph showing the trends in school quality score and average graduation rate\n",
    "\n",
    "bar_graph = df.groupby('Quality_Review_Score')['graduation 2010-11'].mean()\n",
    "bar_graph = bar_graph.to_frame()\n",
    "bar_graph.reset_index(inplace = True)\n",
    "bar_graph.columns = ['Quality_Review_Score', 'Mean_Grad_Rate']\n",
    "\n",
    "#Two values for quality review score were dropped because they were only applicable in certain years\n",
    "bar_graph.drop([1, 4], axis = 0, inplace = True)\n",
    "bar_graph.sort_values(by = \"Mean_Grad_Rate\", inplace = True)\n",
    "bar_graph.plot.bar(x = 'Quality_Review_Score', y = 'Mean_Grad_Rate')"
   ]
  }
 ],
 "metadata": {
  "kernelspec": {
   "display_name": "Python 3",
   "language": "python",
   "name": "python3"
  },
  "language_info": {
   "codemirror_mode": {
    "name": "ipython",
    "version": 3
   },
   "file_extension": ".py",
   "mimetype": "text/x-python",
   "name": "python",
   "nbconvert_exporter": "python",
   "pygments_lexer": "ipython3",
   "version": "3.8.5"
  }
 },
 "nbformat": 4,
 "nbformat_minor": 4
}
