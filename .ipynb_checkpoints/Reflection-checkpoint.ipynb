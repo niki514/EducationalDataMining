{
 "cells": [
  {
   "cell_type": "markdown",
   "metadata": {},
   "source": [
    "# HUDK 4050 Reflection \n",
    "\n",
    "**Author:** Nikita Tejwani"
   ]
  },
  {
   "cell_type": "markdown",
   "metadata": {},
   "source": [
    "&emsp;Data analysis is an incredibly powerful tool in social sciences, particularly in education.  However, data analysts in education are not always conscious of the biases inherent to their algorithms (Tejwani, 2020).  In studying Educational Data Mining, I am interested in understanding tools that are commonly used in the field, as well as how they are applied.  While in this course, I learned that it is very easy to fixate on either the programming aspect or the ethical aspect of data mining, and ignore the other aspect.  However, iterative design can help data miners balance the two concerns."
   ]
  }
 ],
 "metadata": {
  "kernelspec": {
   "display_name": "Python 3",
   "language": "python",
   "name": "python3"
  },
  "language_info": {
   "codemirror_mode": {
    "name": "ipython",
    "version": 3
   },
   "file_extension": ".py",
   "mimetype": "text/x-python",
   "name": "python",
   "nbconvert_exporter": "python",
   "pygments_lexer": "ipython3",
   "version": "3.8.5"
  }
 },
 "nbformat": 4,
 "nbformat_minor": 4
}
